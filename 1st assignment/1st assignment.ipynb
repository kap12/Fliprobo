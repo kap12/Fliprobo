{
 "cells": [
  {
   "cell_type": "code",
   "execution_count": 1,
   "metadata": {},
   "outputs": [
    {
     "name": "stderr",
     "output_type": "stream",
     "text": [
      "Using TensorFlow backend.\n"
     ]
    }
   ],
   "source": [
    "from keras.models import Sequential\n",
    "from keras.layers import Conv2D\n",
    "from keras.layers import MaxPooling2D\n",
    "from keras.layers import Flatten\n",
    "from keras.layers import Dense\n",
    "from keras.preprocessing.image import ImageDataGenerator\n",
    "import matplotlib.pyplot as plt"
   ]
  },
  {
   "cell_type": "code",
   "execution_count": 2,
   "metadata": {},
   "outputs": [],
   "source": [
    "#Initializing the Neural Network\n",
    "classifier = Sequential()\n",
    "\n",
    "#Adding a Convolution Layer\n",
    "classifier.add(Conv2D(32, (3, 3), input_shape = (256, 256, 3), activation='relu'))\n",
    "\n",
    "#Pooling to Reduce the Size of the Feature Map\n",
    "classifier.add(MaxPooling2D(pool_size=(2,2)))\n",
    "\n",
    "#Flattening the Feature Maps\n",
    "classifier.add(Flatten())\n",
    "\n",
    "#Adding Layers to the Neural Network\n",
    "classifier.add(Dense(units = 128, activation='relu'))\n",
    "classifier.add(Dense(units=1, activation='sigmoid'))\n",
    "\n",
    "#Compiling the CNN\n",
    "classifier.compile(optimizer='adam', loss='binary_crossentropy',metrics=['accuracy'])"
   ]
  },
  {
   "cell_type": "code",
   "execution_count": 3,
   "metadata": {},
   "outputs": [
    {
     "name": "stdout",
     "output_type": "stream",
     "text": [
      "Found 12 images belonging to 2 classes.\n"
     ]
    }
   ],
   "source": [
    "#Fitting the CNN\n",
    "train_datagen = ImageDataGenerator(rescale=1./255, shear_range=0.2, zoom_range=0.2, horizontal_flip=True)\n",
    "test_datagen = ImageDataGenerator(rescale=1./255)\n",
    "training_set = train_datagen.flow_from_directory('training_set', target_size=(256, 256), batch_size=32, class_mode='binary')"
   ]
  },
  {
   "cell_type": "code",
   "execution_count": 4,
   "metadata": {},
   "outputs": [
    {
     "name": "stdout",
     "output_type": "stream",
     "text": [
      "Found 4 images belonging to 2 classes.\n"
     ]
    }
   ],
   "source": [
    "test_set = test_datagen.flow_from_directory('test_set', target_size=(256, 256), batch_size=32, class_mode='binary')"
   ]
  },
  {
   "cell_type": "code",
   "execution_count": 5,
   "metadata": {},
   "outputs": [
    {
     "name": "stdout",
     "output_type": "stream",
     "text": [
      "Epoch 1/25\n",
      "40/40 [==============================] - 155s 4s/step - loss: 7.2464 - accuracy: 0.7750 - val_loss: 0.7829 - val_accuracy: 0.5000\n",
      "Epoch 2/25\n",
      "40/40 [==============================] - 153s 4s/step - loss: 0.0256 - accuracy: 0.9896 - val_loss: 0.1386 - val_accuracy: 1.0000\n",
      "Epoch 3/25\n",
      "40/40 [==============================] - 152s 4s/step - loss: 7.0619e-04 - accuracy: 1.0000 - val_loss: 0.1917 - val_accuracy: 1.0000\n",
      "Epoch 4/25\n",
      "40/40 [==============================] - 153s 4s/step - loss: 1.9236e-04 - accuracy: 1.0000 - val_loss: 0.1755 - val_accuracy: 1.0000\n",
      "Epoch 5/25\n",
      "40/40 [==============================] - 152s 4s/step - loss: 2.1445e-04 - accuracy: 1.0000 - val_loss: 0.1537 - val_accuracy: 1.0000\n",
      "Epoch 6/25\n",
      "40/40 [==============================] - 152s 4s/step - loss: 1.5214e-04 - accuracy: 1.0000 - val_loss: 0.1461 - val_accuracy: 1.0000\n",
      "Epoch 7/25\n",
      "40/40 [==============================] - 152s 4s/step - loss: 1.6587e-04 - accuracy: 1.0000 - val_loss: 0.1288 - val_accuracy: 1.0000\n",
      "Epoch 8/25\n",
      "40/40 [==============================] - 153s 4s/step - loss: 1.1493e-04 - accuracy: 1.0000 - val_loss: 0.1298 - val_accuracy: 1.0000\n",
      "Epoch 9/25\n",
      "40/40 [==============================] - 152s 4s/step - loss: 1.4353e-04 - accuracy: 1.0000 - val_loss: 0.1329 - val_accuracy: 1.0000\n",
      "Epoch 10/25\n",
      "40/40 [==============================] - 161s 4s/step - loss: 8.2465e-05 - accuracy: 1.0000 - val_loss: 0.1240 - val_accuracy: 1.0000\n",
      "Epoch 11/25\n",
      "40/40 [==============================] - 192s 5s/step - loss: 6.7175e-05 - accuracy: 1.0000 - val_loss: 0.1227 - val_accuracy: 1.0000\n",
      "Epoch 12/25\n",
      "40/40 [==============================] - 196s 5s/step - loss: 5.9016e-05 - accuracy: 1.0000 - val_loss: 0.1229 - val_accuracy: 1.0000\n",
      "Epoch 13/25\n",
      "40/40 [==============================] - 211s 5s/step - loss: 6.2795e-05 - accuracy: 1.0000 - val_loss: 0.1263 - val_accuracy: 1.0000\n",
      "Epoch 14/25\n",
      "40/40 [==============================] - 192s 5s/step - loss: 5.3733e-05 - accuracy: 1.0000 - val_loss: 0.1200 - val_accuracy: 1.0000\n",
      "Epoch 15/25\n",
      "40/40 [==============================] - 192s 5s/step - loss: 5.0521e-05 - accuracy: 1.0000 - val_loss: 0.1231 - val_accuracy: 1.0000\n",
      "Epoch 16/25\n",
      "40/40 [==============================] - 191s 5s/step - loss: 4.0124e-05 - accuracy: 1.0000 - val_loss: 0.1271 - val_accuracy: 1.0000\n",
      "Epoch 17/25\n",
      "40/40 [==============================] - 175s 4s/step - loss: 4.5184e-05 - accuracy: 1.0000 - val_loss: 0.1474 - val_accuracy: 1.0000\n",
      "Epoch 18/25\n",
      "40/40 [==============================] - 150s 4s/step - loss: 3.7636e-05 - accuracy: 1.0000 - val_loss: 0.1369 - val_accuracy: 1.0000\n",
      "Epoch 19/25\n",
      "40/40 [==============================] - 150s 4s/step - loss: 4.3633e-05 - accuracy: 1.0000 - val_loss: 0.1443 - val_accuracy: 1.0000\n",
      "Epoch 20/25\n",
      "40/40 [==============================] - 150s 4s/step - loss: 2.5761e-05 - accuracy: 1.0000 - val_loss: 0.1297 - val_accuracy: 1.0000\n",
      "Epoch 21/25\n",
      "40/40 [==============================] - 150s 4s/step - loss: 2.5867e-05 - accuracy: 1.0000 - val_loss: 0.1298 - val_accuracy: 1.0000\n",
      "Epoch 22/25\n",
      "40/40 [==============================] - 152s 4s/step - loss: 2.1617e-05 - accuracy: 1.0000 - val_loss: 0.1282 - val_accuracy: 1.0000\n",
      "Epoch 23/25\n",
      "40/40 [==============================] - 159s 4s/step - loss: 2.0990e-05 - accuracy: 1.0000 - val_loss: 0.1193 - val_accuracy: 1.0000\n",
      "Epoch 24/25\n",
      "40/40 [==============================] - 156s 4s/step - loss: 1.9549e-05 - accuracy: 1.0000 - val_loss: 0.1240 - val_accuracy: 1.0000\n",
      "Epoch 25/25\n",
      "40/40 [==============================] - 155s 4s/step - loss: 2.0493e-05 - accuracy: 1.0000 - val_loss: 0.1225 - val_accuracy: 1.0000\n"
     ]
    }
   ],
   "source": [
    "Model_train = classifier.fit_generator(training_set, \n",
    "                                       steps_per_epoch=40, \n",
    "                                       epochs=25, \n",
    "                                       validation_data=test_set, \n",
    "                                       validation_steps=1000)\n"
   ]
  },
  {
   "cell_type": "code",
   "execution_count": 6,
   "metadata": {},
   "outputs": [
    {
     "data": {
      "image/png": "[encoded data removed]",
      "text/plain": [
       "<Figure size 576x576 with 2 Axes>"
      ]
     },
     "metadata": {
      "needs_background": "light"
     },
     "output_type": "display_data"
    }
   ],
   "source": [
    "#Visualize training results\n",
    "acc = Model_train.history['accuracy']\n",
    "val_acc = Model_train.history['val_accuracy']\n",
    "\n",
    "loss=Model_train.history['loss']\n",
    "val_loss=Model_train.history['val_loss']\n",
    "\n",
    "epochs_range = range(25)\n",
    "\n",
    "plt.figure(figsize=(8, 8))\n",
    "plt.subplot(1, 2, 1)\n",
    "plt.plot(epochs_range, acc, label='Training Accuracy')\n",
    "plt.plot(epochs_range, val_acc, label='Validation Accuracy')\n",
    "plt.legend(loc='lower right')\n",
    "plt.title('Training and Validation Accuracy')\n",
    "\n",
    "plt.subplot(1, 2, 2)\n",
    "plt.plot(epochs_range, loss, label='Training Loss')\n",
    "plt.plot(epochs_range, val_loss, label='Validation Loss')\n",
    "plt.legend(loc='upper right')\n",
    "plt.title('Training and Validation Loss')\n",
    "plt.show()"
   ]
  },
  {
   "cell_type": "code",
   "execution_count": 7,
   "metadata": {},
   "outputs": [],
   "source": [
    "import numpy as np\n",
    "from keras.preprocessing import image\n",
    "\n",
    "#Making a Prediction\n",
    "test_image = image.load_img('dog.jpg', target_size=(256, 256))"
   ]
  },
  {
   "cell_type": "code",
   "execution_count": 8,
   "metadata": {},
   "outputs": [
    {
     "data": {
      "text/plain": [
       "{'cats': 0, 'dogs': 1}"
      ]
     },
     "execution_count": 8,
     "metadata": {},
     "output_type": "execute_result"
    }
   ],
   "source": [
    "test_image = image.img_to_array(test_image)\n",
    "\n",
    "test_image = np.expand_dims(test_image, axis=0)\n",
    "\n",
    "prediction = classifier.predict(test_image)\n",
    "\n",
    "training_set.class_indices"
   ]
  },
  {
   "cell_type": "code",
   "execution_count": null,
   "metadata": {},
   "outputs": [],
   "source": []
  }
 ],
 "metadata": {
  "kernelspec": {
   "display_name": "Python 3",
   "language": "python",
   "name": "python3"
  },
  "language_info": {
   "codemirror_mode": {
    "name": "ipython",
    "version": 3
   },
   "file_extension": ".py",
   "mimetype": "text/x-python",
   "name": "python",
   "nbconvert_exporter": "python",
   "pygments_lexer": "ipython3",
   "version": "3.6.10"
  }
 },
 "nbformat": 4,
 "nbformat_minor": 4
}
