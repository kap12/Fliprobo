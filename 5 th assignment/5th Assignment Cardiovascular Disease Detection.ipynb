{
 "cells": [
  {
   "cell_type": "code",
   "execution_count": 1,
   "metadata": {},
   "outputs": [],
   "source": [
    "import numpy as np\n",
    "import pandas as pd\n",
    "\n",
    "import seaborn as sns\n",
    "import matplotlib.pyplot as plt\n",
    "from matplotlib.pyplot import figure\n",
    "\n",
    "import joblib\n",
    "from scipy.stats import zscore\n",
    "from sklearn.decomposition import PCA\n",
    "from sklearn.model_selection import GridSearchCV\n",
    "from sklearn.preprocessing import StandardScaler,LabelEncoder\n",
    "from sklearn.model_selection import cross_val_score,KFold,train_test_split\n",
    "from sklearn.metrics import (accuracy_score,confusion_matrix,precision_score,recall_score,roc_auc_score,classification_report,\n",
    "f1_score,roc_curve,log_loss)\n",
    "\n",
    "from sklearn.svm import SVC\n",
    "from sklearn.naive_bayes import GaussianNB\n",
    "from sklearn.tree import DecisionTreeClassifier\n",
    "from sklearn.neighbors import KNeighborsClassifier\n",
    "from sklearn.linear_model import SGDClassifier,LogisticRegression\n",
    "from sklearn.ensemble import RandomForestClassifier,GradientBoostingClassifier\n",
    "from sklearn.discriminant_analysis import LinearDiscriminantAnalysis,QuadraticDiscriminantAnalysis\n",
    "\n",
    "import warnings\n",
    "warnings.filterwarnings('ignore')"
   ]
  },
  {
   "cell_type": "code",
   "execution_count": 2,
   "metadata": {},
   "outputs": [
    {
     "data": {
      "text/html": [
       "<div>\n",
       "<style scoped>\n",
       "    .dataframe tbody tr th:only-of-type {\n",
       "        vertical-align: middle;\n",
       "    }\n",
       "\n",
       "    .dataframe tbody tr th {\n",
       "        vertical-align: top;\n",
       "    }\n",
       "\n",
       "    .dataframe thead th {\n",
       "        text-align: right;\n",
       "    }\n",
       "</style>\n",
       "<table border=\"1\" class=\"dataframe\">\n",
       "  <thead>\n",
       "    <tr style=\"text-align: right;\">\n",
       "      <th></th>\n",
       "      <th>id</th>\n",
       "      <th>age</th>\n",
       "      <th>gender</th>\n",
       "      <th>height</th>\n",
       "      <th>weight</th>\n",
       "      <th>ap_hi</th>\n",
       "      <th>ap_lo</th>\n",
       "      <th>cholesterol</th>\n",
       "      <th>gluc</th>\n",
       "      <th>smoke</th>\n",
       "      <th>alco</th>\n",
       "      <th>active</th>\n",
       "      <th>cardio</th>\n",
       "    </tr>\n",
       "  </thead>\n",
       "  <tbody>\n",
       "    <tr>\n",
       "      <th>32738</th>\n",
       "      <td>47766</td>\n",
       "      <td>15318</td>\n",
       "      <td>2</td>\n",
       "      <td>168</td>\n",
       "      <td>62.0</td>\n",
       "      <td>120</td>\n",
       "      <td>90</td>\n",
       "      <td>1</td>\n",
       "      <td>1</td>\n",
       "      <td>1</td>\n",
       "      <td>0</td>\n",
       "      <td>1</td>\n",
       "      <td>0</td>\n",
       "    </tr>\n",
       "    <tr>\n",
       "      <th>40577</th>\n",
       "      <td>58983</td>\n",
       "      <td>20275</td>\n",
       "      <td>1</td>\n",
       "      <td>168</td>\n",
       "      <td>74.0</td>\n",
       "      <td>120</td>\n",
       "      <td>80</td>\n",
       "      <td>1</td>\n",
       "      <td>1</td>\n",
       "      <td>0</td>\n",
       "      <td>0</td>\n",
       "      <td>1</td>\n",
       "      <td>1</td>\n",
       "    </tr>\n",
       "    <tr>\n",
       "      <th>35068</th>\n",
       "      <td>51080</td>\n",
       "      <td>22597</td>\n",
       "      <td>1</td>\n",
       "      <td>145</td>\n",
       "      <td>65.0</td>\n",
       "      <td>150</td>\n",
       "      <td>80</td>\n",
       "      <td>1</td>\n",
       "      <td>1</td>\n",
       "      <td>0</td>\n",
       "      <td>0</td>\n",
       "      <td>1</td>\n",
       "      <td>1</td>\n",
       "    </tr>\n",
       "    <tr>\n",
       "      <th>46866</th>\n",
       "      <td>67922</td>\n",
       "      <td>22440</td>\n",
       "      <td>1</td>\n",
       "      <td>168</td>\n",
       "      <td>79.0</td>\n",
       "      <td>140</td>\n",
       "      <td>90</td>\n",
       "      <td>2</td>\n",
       "      <td>3</td>\n",
       "      <td>0</td>\n",
       "      <td>0</td>\n",
       "      <td>1</td>\n",
       "      <td>1</td>\n",
       "    </tr>\n",
       "    <tr>\n",
       "      <th>39584</th>\n",
       "      <td>57581</td>\n",
       "      <td>20302</td>\n",
       "      <td>2</td>\n",
       "      <td>168</td>\n",
       "      <td>90.0</td>\n",
       "      <td>120</td>\n",
       "      <td>80</td>\n",
       "      <td>1</td>\n",
       "      <td>1</td>\n",
       "      <td>0</td>\n",
       "      <td>0</td>\n",
       "      <td>0</td>\n",
       "      <td>0</td>\n",
       "    </tr>\n",
       "  </tbody>\n",
       "</table>\n",
       "</div>"
      ],
      "text/plain": [
       "          id    age  gender  height  weight  ap_hi  ap_lo  cholesterol  gluc  \\\n",
       "32738  47766  15318       2     168    62.0    120     90            1     1   \n",
       "40577  58983  20275       1     168    74.0    120     80            1     1   \n",
       "35068  51080  22597       1     145    65.0    150     80            1     1   \n",
       "46866  67922  22440       1     168    79.0    140     90            2     3   \n",
       "39584  57581  20302       2     168    90.0    120     80            1     1   \n",
       "\n",
       "       smoke  alco  active  cardio  \n",
       "32738      1     0       1       0  \n",
       "40577      0     0       1       1  \n",
       "35068      0     0       1       1  \n",
       "46866      0     0       1       1  \n",
       "39584      0     0       0       0  "
      ]
     },
     "execution_count": 2,
     "metadata": {},
     "output_type": "execute_result"
    }
   ],
   "source": [
    "# importing data\n",
    "df = pd.read_csv('cardio_train.csv', sep = ';')\n",
    "df.sample(5)"
   ]
  },
  {
   "cell_type": "markdown",
   "metadata": {},
   "source": [
    "### Imported data at a glance"
   ]
  },
  {
   "cell_type": "code",
   "execution_count": 3,
   "metadata": {},
   "outputs": [
    {
     "data": {
      "text/plain": [
       "(69301, 13)"
      ]
     },
     "execution_count": 3,
     "metadata": {},
     "output_type": "execute_result"
    }
   ],
   "source": [
    "# checking shape of data\n",
    "df.shape"
   ]
  },
  {
   "cell_type": "code",
   "execution_count": 4,
   "metadata": {},
   "outputs": [
    {
     "name": "stdout",
     "output_type": "stream",
     "text": [
      "<class 'pandas.core.frame.DataFrame'>\n",
      "RangeIndex: 69301 entries, 0 to 69300\n",
      "Data columns (total 13 columns):\n",
      " #   Column       Non-Null Count  Dtype  \n",
      "---  ------       --------------  -----  \n",
      " 0   id           69301 non-null  int64  \n",
      " 1   age          69301 non-null  int64  \n",
      " 2   gender       69301 non-null  int64  \n",
      " 3   height       69301 non-null  int64  \n",
      " 4   weight       69301 non-null  float64\n",
      " 5   ap_hi        69301 non-null  int64  \n",
      " 6   ap_lo        69301 non-null  int64  \n",
      " 7   cholesterol  69301 non-null  int64  \n",
      " 8   gluc         69301 non-null  int64  \n",
      " 9   smoke        69301 non-null  int64  \n",
      " 10  alco         69301 non-null  int64  \n",
      " 11  active       69301 non-null  int64  \n",
      " 12  cardio       69301 non-null  int64  \n",
      "dtypes: float64(1), int64(12)\n",
      "memory usage: 6.9 MB\n"
     ]
    }
   ],
   "source": [
    "# checking data information\n",
    "df.info()"
   ]
  },
  {
   "cell_type": "code",
   "execution_count": 5,
   "metadata": {},
   "outputs": [
    {
     "data": {
      "text/plain": [
       "id             69301\n",
       "age             8069\n",
       "gender             2\n",
       "height           108\n",
       "weight           285\n",
       "ap_hi            153\n",
       "ap_lo            157\n",
       "cholesterol        3\n",
       "gluc               3\n",
       "smoke              2\n",
       "alco               2\n",
       "active             2\n",
       "cardio             2\n",
       "dtype: int64"
      ]
     },
     "execution_count": 5,
     "metadata": {},
     "output_type": "execute_result"
    }
   ],
   "source": [
    "#checking unique value in each row\n",
    "df.nunique()"
   ]
  },
  {
   "cell_type": "code",
   "execution_count": 6,
   "metadata": {},
   "outputs": [
    {
     "data": {
      "text/html": [
       "<div>\n",
       "<style scoped>\n",
       "    .dataframe tbody tr th:only-of-type {\n",
       "        vertical-align: middle;\n",
       "    }\n",
       "\n",
       "    .dataframe tbody tr th {\n",
       "        vertical-align: top;\n",
       "    }\n",
       "\n",
       "    .dataframe thead th {\n",
       "        text-align: right;\n",
       "    }\n",
       "</style>\n",
       "<table border=\"1\" class=\"dataframe\">\n",
       "  <thead>\n",
       "    <tr style=\"text-align: right;\">\n",
       "      <th></th>\n",
       "      <th>id</th>\n",
       "      <th>age</th>\n",
       "      <th>gender</th>\n",
       "      <th>height</th>\n",
       "      <th>weight</th>\n",
       "      <th>ap_hi</th>\n",
       "      <th>ap_lo</th>\n",
       "      <th>cholesterol</th>\n",
       "      <th>gluc</th>\n",
       "      <th>smoke</th>\n",
       "      <th>alco</th>\n",
       "      <th>active</th>\n",
       "      <th>cardio</th>\n",
       "    </tr>\n",
       "  </thead>\n",
       "  <tbody>\n",
       "    <tr>\n",
       "      <th>count</th>\n",
       "      <td>69301.000000</td>\n",
       "      <td>69301.000000</td>\n",
       "      <td>69301.000000</td>\n",
       "      <td>69301.000000</td>\n",
       "      <td>69301.000000</td>\n",
       "      <td>69301.000000</td>\n",
       "      <td>69301.000000</td>\n",
       "      <td>69301.000000</td>\n",
       "      <td>69301.000000</td>\n",
       "      <td>69301.000000</td>\n",
       "      <td>69301.000000</td>\n",
       "      <td>69301.000000</td>\n",
       "      <td>69301.000000</td>\n",
       "    </tr>\n",
       "    <tr>\n",
       "      <th>mean</th>\n",
       "      <td>50471.480397</td>\n",
       "      <td>19468.786280</td>\n",
       "      <td>1.349519</td>\n",
       "      <td>164.362217</td>\n",
       "      <td>74.203027</td>\n",
       "      <td>128.829584</td>\n",
       "      <td>96.650092</td>\n",
       "      <td>1.366806</td>\n",
       "      <td>1.226447</td>\n",
       "      <td>0.088051</td>\n",
       "      <td>0.053881</td>\n",
       "      <td>0.803986</td>\n",
       "      <td>0.499589</td>\n",
       "    </tr>\n",
       "    <tr>\n",
       "      <th>std</th>\n",
       "      <td>28563.100347</td>\n",
       "      <td>2467.261818</td>\n",
       "      <td>0.476821</td>\n",
       "      <td>8.205337</td>\n",
       "      <td>14.383469</td>\n",
       "      <td>154.775805</td>\n",
       "      <td>189.096240</td>\n",
       "      <td>0.680270</td>\n",
       "      <td>0.572246</td>\n",
       "      <td>0.283371</td>\n",
       "      <td>0.225784</td>\n",
       "      <td>0.396982</td>\n",
       "      <td>0.500003</td>\n",
       "    </tr>\n",
       "    <tr>\n",
       "      <th>min</th>\n",
       "      <td>988.000000</td>\n",
       "      <td>10798.000000</td>\n",
       "      <td>1.000000</td>\n",
       "      <td>55.000000</td>\n",
       "      <td>10.000000</td>\n",
       "      <td>-150.000000</td>\n",
       "      <td>-70.000000</td>\n",
       "      <td>1.000000</td>\n",
       "      <td>1.000000</td>\n",
       "      <td>0.000000</td>\n",
       "      <td>0.000000</td>\n",
       "      <td>0.000000</td>\n",
       "      <td>0.000000</td>\n",
       "    </tr>\n",
       "    <tr>\n",
       "      <th>25%</th>\n",
       "      <td>25745.000000</td>\n",
       "      <td>17664.000000</td>\n",
       "      <td>1.000000</td>\n",
       "      <td>159.000000</td>\n",
       "      <td>65.000000</td>\n",
       "      <td>120.000000</td>\n",
       "      <td>80.000000</td>\n",
       "      <td>1.000000</td>\n",
       "      <td>1.000000</td>\n",
       "      <td>0.000000</td>\n",
       "      <td>0.000000</td>\n",
       "      <td>1.000000</td>\n",
       "      <td>0.000000</td>\n",
       "    </tr>\n",
       "    <tr>\n",
       "      <th>50%</th>\n",
       "      <td>50494.000000</td>\n",
       "      <td>19704.000000</td>\n",
       "      <td>1.000000</td>\n",
       "      <td>165.000000</td>\n",
       "      <td>72.000000</td>\n",
       "      <td>120.000000</td>\n",
       "      <td>80.000000</td>\n",
       "      <td>1.000000</td>\n",
       "      <td>1.000000</td>\n",
       "      <td>0.000000</td>\n",
       "      <td>0.000000</td>\n",
       "      <td>1.000000</td>\n",
       "      <td>0.000000</td>\n",
       "    </tr>\n",
       "    <tr>\n",
       "      <th>75%</th>\n",
       "      <td>75150.000000</td>\n",
       "      <td>21326.000000</td>\n",
       "      <td>2.000000</td>\n",
       "      <td>170.000000</td>\n",
       "      <td>82.000000</td>\n",
       "      <td>140.000000</td>\n",
       "      <td>90.000000</td>\n",
       "      <td>2.000000</td>\n",
       "      <td>1.000000</td>\n",
       "      <td>0.000000</td>\n",
       "      <td>0.000000</td>\n",
       "      <td>1.000000</td>\n",
       "      <td>1.000000</td>\n",
       "    </tr>\n",
       "    <tr>\n",
       "      <th>max</th>\n",
       "      <td>99999.000000</td>\n",
       "      <td>23713.000000</td>\n",
       "      <td>2.000000</td>\n",
       "      <td>250.000000</td>\n",
       "      <td>200.000000</td>\n",
       "      <td>16020.000000</td>\n",
       "      <td>11000.000000</td>\n",
       "      <td>3.000000</td>\n",
       "      <td>3.000000</td>\n",
       "      <td>1.000000</td>\n",
       "      <td>1.000000</td>\n",
       "      <td>1.000000</td>\n",
       "      <td>1.000000</td>\n",
       "    </tr>\n",
       "  </tbody>\n",
       "</table>\n",
       "</div>"
      ],
      "text/plain": [
       "                 id           age        gender        height        weight  \\\n",
       "count  69301.000000  69301.000000  69301.000000  69301.000000  69301.000000   \n",
       "mean   50471.480397  19468.786280      1.349519    164.362217     74.203027   \n",
       "std    28563.100347   2467.261818      0.476821      8.205337     14.383469   \n",
       "min      988.000000  10798.000000      1.000000     55.000000     10.000000   \n",
       "25%    25745.000000  17664.000000      1.000000    159.000000     65.000000   \n",
       "50%    50494.000000  19704.000000      1.000000    165.000000     72.000000   \n",
       "75%    75150.000000  21326.000000      2.000000    170.000000     82.000000   \n",
       "max    99999.000000  23713.000000      2.000000    250.000000    200.000000   \n",
       "\n",
       "              ap_hi         ap_lo   cholesterol          gluc         smoke  \\\n",
       "count  69301.000000  69301.000000  69301.000000  69301.000000  69301.000000   \n",
       "mean     128.829584     96.650092      1.366806      1.226447      0.088051   \n",
       "std      154.775805    189.096240      0.680270      0.572246      0.283371   \n",
       "min     -150.000000    -70.000000      1.000000      1.000000      0.000000   \n",
       "25%      120.000000     80.000000      1.000000      1.000000      0.000000   \n",
       "50%      120.000000     80.000000      1.000000      1.000000      0.000000   \n",
       "75%      140.000000     90.000000      2.000000      1.000000      0.000000   \n",
       "max    16020.000000  11000.000000      3.000000      3.000000      1.000000   \n",
       "\n",
       "               alco        active        cardio  \n",
       "count  69301.000000  69301.000000  69301.000000  \n",
       "mean       0.053881      0.803986      0.499589  \n",
       "std        0.225784      0.396982      0.500003  \n",
       "min        0.000000      0.000000      0.000000  \n",
       "25%        0.000000      1.000000      0.000000  \n",
       "50%        0.000000      1.000000      0.000000  \n",
       "75%        0.000000      1.000000      1.000000  \n",
       "max        1.000000      1.000000      1.000000  "
      ]
     },
     "execution_count": 6,
     "metadata": {},
     "output_type": "execute_result"
    }
   ],
   "source": [
    "# checking the data description\n",
    "df.describe()"
   ]
  },
  {
   "cell_type": "markdown",
   "metadata": {},
   "source": [
    "### Data preprocessing"
   ]
  },
  {
   "cell_type": "code",
   "execution_count": 7,
   "metadata": {},
   "outputs": [],
   "source": [
    "# converting age from days to years\n",
    "df['age'] = df['age'] // 365"
   ]
  },
  {
   "cell_type": "code",
   "execution_count": 8,
   "metadata": {},
   "outputs": [],
   "source": [
    "# converting gender into a binary variable\n",
    "df['gender'] = df['gender'] - 1"
   ]
  },
  {
   "cell_type": "code",
   "execution_count": 9,
   "metadata": {},
   "outputs": [],
   "source": [
    "# changing sign of negative blood pressure values\n",
    "df['ap_lo'] = df['ap_lo'].map(lambda x: -1 * x if x < 0 else x)\n",
    "df['ap_hi'] = df['ap_hi'].map(lambda x: -1 * x if x < 0 else x)\n",
    "\n",
    "# dropping rows with diastolic blood pressure > systolic blood pressure\n",
    "df = df.loc[df['ap_lo'] < df['ap_hi']]\n",
    "\n",
    "# dropping rows with infeasible blood pressure values\n",
    "df = df.loc[(df['ap_hi'] > 70) & (df['ap_hi'] < 200)]\n",
    "df = df.loc[(df['ap_lo'] > 40) & (df['ap_lo'] < 160)]"
   ]
  },
  {
   "cell_type": "code",
   "execution_count": 10,
   "metadata": {},
   "outputs": [],
   "source": [
    "# calculating bmi\n",
    "df['bmi'] = df['weight'] / (df['height'] / 100)**2\n",
    "df['bmi'] = df['bmi'].astype('int')\n",
    "\n",
    "# dropping height and weight columns\n",
    "df.drop(columns = ['height', 'weight'], inplace = True)\n",
    "\n",
    "# dropping rows with infeasible bmi values\n",
    "df = df.loc[(df['bmi'] > 10) & (df['bmi'] < 60)]"
   ]
  },
  {
   "cell_type": "code",
   "execution_count": 11,
   "metadata": {},
   "outputs": [],
   "source": [
    "# dropping id column\n",
    "df.drop(columns = ['id'], inplace = True)"
   ]
  },
  {
   "cell_type": "code",
   "execution_count": 12,
   "metadata": {},
   "outputs": [],
   "source": [
    "# balancing classes\n",
    "# undersampling from minority class\n",
    "no_cardio = df.loc[df['cardio'] == 0]\n",
    "cardio = df.loc[df['cardio'] == 1]\n",
    "n = min(len(no_cardio), len(cardio))\n",
    "no_cardio_reduced = no_cardio.sample(n = n, random_state = 0)\n",
    "cardio_reduced = cardio.sample(n = n, random_state = 0)"
   ]
  },
  {
   "cell_type": "code",
   "execution_count": 13,
   "metadata": {},
   "outputs": [
    {
     "data": {
      "text/html": [
       "<div>\n",
       "<style scoped>\n",
       "    .dataframe tbody tr th:only-of-type {\n",
       "        vertical-align: middle;\n",
       "    }\n",
       "\n",
       "    .dataframe tbody tr th {\n",
       "        vertical-align: top;\n",
       "    }\n",
       "\n",
       "    .dataframe thead th {\n",
       "        text-align: right;\n",
       "    }\n",
       "</style>\n",
       "<table border=\"1\" class=\"dataframe\">\n",
       "  <thead>\n",
       "    <tr style=\"text-align: right;\">\n",
       "      <th></th>\n",
       "      <th>age</th>\n",
       "      <th>gender</th>\n",
       "      <th>ap_hi</th>\n",
       "      <th>ap_lo</th>\n",
       "      <th>cholesterol</th>\n",
       "      <th>gluc</th>\n",
       "      <th>smoke</th>\n",
       "      <th>alco</th>\n",
       "      <th>active</th>\n",
       "      <th>cardio</th>\n",
       "      <th>bmi</th>\n",
       "    </tr>\n",
       "  </thead>\n",
       "  <tbody>\n",
       "    <tr>\n",
       "      <th>0</th>\n",
       "      <td>61</td>\n",
       "      <td>0</td>\n",
       "      <td>130</td>\n",
       "      <td>80</td>\n",
       "      <td>2</td>\n",
       "      <td>2</td>\n",
       "      <td>0</td>\n",
       "      <td>0</td>\n",
       "      <td>1</td>\n",
       "      <td>0</td>\n",
       "      <td>28</td>\n",
       "    </tr>\n",
       "    <tr>\n",
       "      <th>1</th>\n",
       "      <td>40</td>\n",
       "      <td>0</td>\n",
       "      <td>110</td>\n",
       "      <td>70</td>\n",
       "      <td>1</td>\n",
       "      <td>1</td>\n",
       "      <td>0</td>\n",
       "      <td>0</td>\n",
       "      <td>1</td>\n",
       "      <td>1</td>\n",
       "      <td>26</td>\n",
       "    </tr>\n",
       "    <tr>\n",
       "      <th>2</th>\n",
       "      <td>60</td>\n",
       "      <td>0</td>\n",
       "      <td>120</td>\n",
       "      <td>80</td>\n",
       "      <td>1</td>\n",
       "      <td>1</td>\n",
       "      <td>0</td>\n",
       "      <td>0</td>\n",
       "      <td>1</td>\n",
       "      <td>0</td>\n",
       "      <td>25</td>\n",
       "    </tr>\n",
       "    <tr>\n",
       "      <th>3</th>\n",
       "      <td>39</td>\n",
       "      <td>1</td>\n",
       "      <td>120</td>\n",
       "      <td>80</td>\n",
       "      <td>1</td>\n",
       "      <td>1</td>\n",
       "      <td>1</td>\n",
       "      <td>1</td>\n",
       "      <td>1</td>\n",
       "      <td>0</td>\n",
       "      <td>31</td>\n",
       "    </tr>\n",
       "    <tr>\n",
       "      <th>4</th>\n",
       "      <td>64</td>\n",
       "      <td>0</td>\n",
       "      <td>120</td>\n",
       "      <td>80</td>\n",
       "      <td>1</td>\n",
       "      <td>1</td>\n",
       "      <td>0</td>\n",
       "      <td>0</td>\n",
       "      <td>1</td>\n",
       "      <td>0</td>\n",
       "      <td>25</td>\n",
       "    </tr>\n",
       "  </tbody>\n",
       "</table>\n",
       "</div>"
      ],
      "text/plain": [
       "   age  gender  ap_hi  ap_lo  cholesterol  gluc  smoke  alco  active  cardio  \\\n",
       "0   61       0    130     80            2     2      0     0       1       0   \n",
       "1   40       0    110     70            1     1      0     0       1       1   \n",
       "2   60       0    120     80            1     1      0     0       1       0   \n",
       "3   39       1    120     80            1     1      1     1       1       0   \n",
       "4   64       0    120     80            1     1      0     0       1       0   \n",
       "\n",
       "   bmi  \n",
       "0   28  \n",
       "1   26  \n",
       "2   25  \n",
       "3   31  \n",
       "4   25  "
      ]
     },
     "execution_count": 13,
     "metadata": {},
     "output_type": "execute_result"
    }
   ],
   "source": [
    "df.head()"
   ]
  },
  {
   "cell_type": "markdown",
   "metadata": {},
   "source": [
    "### EDA"
   ]
  },
  {
   "cell_type": "code",
   "execution_count": 14,
   "metadata": {},
   "outputs": [],
   "source": [
    "df1 = df.copy()\n",
    "# converting ages into categories\n",
    "min_age, max_age = df['age'].min(), df['age'].max()\n",
    "df1['age'] = pd.cut(df1['age'], bins = [min_age-1,40,45,50,55,60,max_age+1], labels = ['under 40', '40-45', '45-50', '50-55', '55-60', 'over 60'])\n",
    "\n",
    "# converting bmi into categories\n",
    "min_bmi, max_bmi = df['bmi'].min(), df['bmi'].max()\n",
    "df1['bmi'] = pd.cut(df1['bmi'], bins = [min_bmi-1,17.5,25,30,max_bmi+1], labels = ['underweight', 'normal weight', 'overweight', 'obese'])\n",
    "\n",
    "# converting diastolic blood pressure into zone\n",
    "min_diastolic_bp, max_diastolic_bp = df['ap_lo'].min(), df['ap_lo'].max()\n",
    "df1['Diastolic Blood Pressure'] = pd.cut(df1['ap_lo'], bins = [min_diastolic_bp-1,80,90,120,max_diastolic_bp+1], labels = ['normal', 'stage 1', 'stage 2', 'stage 3'])\n",
    "\n",
    "# converting Systolic blood pressure into zone\n",
    "min_systolic_bp, max_systolic_bp = df['ap_hi'].min(), df['ap_hi'].max()\n",
    "df1['Systolic Blood Pressure'] = pd.cut(df1['ap_hi'], bins = [min_systolic_bp-1,120,140,180,max_systolic_bp+1], labels = ['normal', 'stage 1', 'stage 2', 'stage 3'])"
   ]
  },
  {
   "cell_type": "code",
   "execution_count": 15,
   "metadata": {},
   "outputs": [
    {
     "name": "stdout",
     "output_type": "stream",
     "text": [
      "\u001b[1;31mEffect of gender in occurrence of disease\u001b[0m\n",
      "gender\n",
      "0    0.491\n",
      "1    0.499\n",
      "Name: cardio, dtype: float64 \n",
      "\n",
      "\n",
      "\u001b[1;31mEffect of smoke in occurrence of disease\u001b[0m\n",
      "smoke\n",
      "0    0.496\n",
      "1    0.468\n",
      "Name: cardio, dtype: float64 \n",
      "\n",
      "\n",
      "\u001b[1;31mEffect of alco in occurrence of disease\u001b[0m\n",
      "alco\n",
      "0    0.495\n",
      "1    0.476\n",
      "Name: cardio, dtype: float64 \n",
      "\n",
      "\n",
      "\u001b[1;31mEffect of active in occurrence of disease\u001b[0m\n",
      "active\n",
      "0    0.532\n",
      "1    0.485\n",
      "Name: cardio, dtype: float64 \n",
      "\n",
      "\n",
      "\u001b[1;31mEffect of cholesterol in occurrence of disease\u001b[0m\n",
      "cholesterol\n",
      "1    0.435\n",
      "2    0.596\n",
      "3    0.761\n",
      "Name: cardio, dtype: float64 \n",
      "\n",
      "\n",
      "\u001b[1;31mEffect of gluc in occurrence of disease\u001b[0m\n",
      "gluc\n",
      "1    0.475\n",
      "2    0.587\n",
      "3    0.616\n",
      "Name: cardio, dtype: float64 \n",
      "\n",
      "\n",
      "\u001b[1;31mEffect of age in occurrence of disease\u001b[0m\n",
      "age\n",
      "under 40    0.224\n",
      "40-45       0.345\n",
      "45-50       0.419\n",
      "50-55       0.491\n",
      "55-60       0.566\n",
      "over 60     0.695\n",
      "Name: cardio, dtype: float64 \n",
      "\n",
      "\n",
      "\u001b[1;31mEffect of bmi in occurrence of disease\u001b[0m\n",
      "bmi\n",
      "underweight      0.260\n",
      "normal weight    0.410\n",
      "overweight       0.525\n",
      "obese            0.637\n",
      "Name: cardio, dtype: float64 \n",
      "\n",
      "\n",
      "\u001b[1;31mEffect of Diastolic Blood Pressure in occurrence of disease\u001b[0m\n",
      "Diastolic Blood Pressure\n",
      "normal     0.384\n",
      "stage 1    0.741\n",
      "stage 2    0.833\n",
      "stage 3    0.875\n",
      "Name: cardio, dtype: float64 \n",
      "\n",
      "\n",
      "\u001b[1;31mEffect of Systolic Blood Pressure in occurrence of disease\u001b[0m\n",
      "Systolic Blood Pressure\n",
      "normal     0.316\n",
      "stage 1    0.698\n",
      "stage 2    0.858\n",
      "stage 3    0.850\n",
      "Name: cardio, dtype: float64 \n",
      "\n",
      "\n",
      "\u001b[1;31mEffect of cardio in occurrence of disease\u001b[0m\n",
      "cardio\n",
      "0    0\n",
      "1    1\n",
      "Name: cardio, dtype: int64 \n",
      "\n",
      "\n"
     ]
    }
   ],
   "source": [
    "# checking count and percentage of diffrent values in each coloums\n",
    "fx = df1[['gender','smoke','alco','active','cholesterol','gluc','age','bmi','Diastolic Blood Pressure','Systolic Blood Pressure','cardio']]\n",
    "\n",
    "for column_index, column in enumerate(fx.columns):\n",
    "    print('\\x1b[1;31m'+'Effect of',column,'in occurrence of disease'+'\\x1b[0m')\n",
    "    print(fx.groupby([column])['cardio'].mean().round(3),'\\n\\n')"
   ]
  },
  {
   "cell_type": "code",
   "execution_count": 16,
   "metadata": {},
   "outputs": [
    {
     "data": {
      "image/png": "[encoded data removed]",
      "text/plain": [
       "<Figure size 1296x2160 with 10 Axes>"
      ]
     },
     "metadata": {
      "needs_background": "light"
     },
     "output_type": "display_data"
    }
   ],
   "source": [
    "figure(num=None,figsize=(18,30))\n",
    "for column_index, column in enumerate(fx.columns):\n",
    "    if column == 'cardio':\n",
    "        continue\n",
    "    plt.subplot(4, 3, column_index+1)\n",
    "    \n",
    "    sns.barplot(y='cardio', x=column, data=fx,hue='gender')"
   ]
  },
  {
   "cell_type": "markdown",
   "metadata": {},
   "source": [
    "#### From above we conclude that Gender, Alcohol, Smoking and Activity Level have almost no significant diffrence in matter of occurrence of disease while in case of Cholesterol, Glucose, Age, BMI, Diastolic Blood Pressure and Systolic Blood Pressure likelihood of disease increases as these factor increases."
   ]
  },
  {
   "cell_type": "code",
   "execution_count": 17,
   "metadata": {},
   "outputs": [
    {
     "name": "stdout",
     "output_type": "stream",
     "text": [
      "x dataset\n",
      "        age  gender  ap_hi  ap_lo  cholesterol  gluc  smoke  alco  active  bmi\n",
      "44319   51       0    110     80            1     2      0     0       1   31\n",
      "32472   51       0    120     80            1     1      0     0       1   22\n",
      "9937    57       0    120     80            1     1      0     1       1   22\n",
      "51087   46       0    120     70            1     1      0     0       1   16\n",
      "28507   56       0    120     80            1     1      0     0       1   26 \n",
      "\n",
      "y datase\n",
      " 10277    1\n",
      "60951    0\n",
      "60366    0\n",
      "55057    1\n",
      "18660    1\n",
      "Name: cardio, dtype: int64\n",
      "(67762, 10)\n",
      "(67762,)\n"
     ]
    }
   ],
   "source": [
    "# dividing dataset into input values 'x' and output value 'y'\n",
    "x = df.drop(columns=['cardio'])\n",
    "print('x dataset\\n',x.sample(5),'\\n')\n",
    "y=df['cardio']\n",
    "print('y datase\\n',y.sample(5))\n",
    "print(x.shape)\n",
    "print(y.shape)"
   ]
  },
  {
   "cell_type": "code",
   "execution_count": 18,
   "metadata": {},
   "outputs": [],
   "source": [
    "# standardizes the data in x using standerd scaler technique\n",
    "scale=StandardScaler()\n",
    "x=scale.fit_transform(x)"
   ]
  },
  {
   "cell_type": "code",
   "execution_count": 19,
   "metadata": {},
   "outputs": [
    {
     "data": {
      "image/png": "[encoded data removed]",
      "text/plain": [
       "<Figure size 432x288 with 1 Axes>"
      ]
     },
     "metadata": {
      "needs_background": "light"
     },
     "output_type": "display_data"
    }
   ],
   "source": [
    "# using pca to find out the variance ratio for dimensionality-reduction\n",
    "pca=PCA()\n",
    "train_x1=pca.fit(x)\n",
    "\n",
    "plt.plot(np.cumsum(pca.explained_variance_ratio_),'ro-')\n",
    "plt.grid()"
   ]
  },
  {
   "cell_type": "markdown",
   "metadata": {},
   "source": [
    "#### we will not use pca for dimensionality-reduction since this does'nt have much effect"
   ]
  },
  {
   "cell_type": "markdown",
   "metadata": {},
   "source": [
    "### Bulding and comparing multipe classification model, to find out the best model"
   ]
  },
  {
   "cell_type": "code",
   "execution_count": 20,
   "metadata": {},
   "outputs": [],
   "source": [
    "#creating models array with all the model\n",
    "Models=[('SVC',SVC()),('GaussianNB',GaussianNB()),('SGDClassifier',SGDClassifier(random_state=10)),('LogisticRegression',LogisticRegression()),\n",
    "        ('DecisionTreeClassifier',DecisionTreeClassifier(random_state=10)),('GradientBoostingClassifier',GradientBoostingClassifier()),\n",
    "        ('LinearDiscriminantAnalysis',LinearDiscriminantAnalysis()),('RandomForestClassifier',RandomForestClassifier(random_state=10)),\n",
    "        ('KNeighborsClassifier',KNeighborsClassifier()),('QuadraticDiscriminantAnalysis',QuadraticDiscriminantAnalysis())]"
   ]
  },
  {
   "cell_type": "code",
   "execution_count": 21,
   "metadata": {},
   "outputs": [],
   "source": [
    "# loop to find out the maximum ayuray of all the model in models arrac along the range of random state\n",
    "Model_array=[]\n",
    "Random_state=[]\n",
    "Max_accuracy_array=[]\n",
    "for name,model in Models:\n",
    "    max_accuracy=0    \n",
    "    for random_state in range(10,99):\n",
    "        train_x,test_x,train_y,test_y=train_test_split(x,y,test_size=.2,random_state=random_state,stratify=y,shuffle=True)\n",
    "        model.fit(train_x,train_y)\n",
    "        pred=model.predict(test_x)\n",
    "        \n",
    "        accuracy=accuracy_score(test_y,pred)\n",
    "        \n",
    "        if accuracy>max_accuracy:\n",
    "            max_accuracy=accuracy\n",
    "            best_random_state=random_state\n",
    "    \n",
    "    Model_array.append(name)\n",
    "    Random_state.append(best_random_state)\n",
    "    Max_accuracy_array.append(max_accuracy)"
   ]
  },
  {
   "cell_type": "code",
   "execution_count": 22,
   "metadata": {},
   "outputs": [
    {
     "data": {
      "text/html": [
       "<div>\n",
       "<style scoped>\n",
       "    .dataframe tbody tr th:only-of-type {\n",
       "        vertical-align: middle;\n",
       "    }\n",
       "\n",
       "    .dataframe tbody tr th {\n",
       "        vertical-align: top;\n",
       "    }\n",
       "\n",
       "    .dataframe thead th {\n",
       "        text-align: right;\n",
       "    }\n",
       "</style>\n",
       "<table border=\"1\" class=\"dataframe\">\n",
       "  <thead>\n",
       "    <tr style=\"text-align: right;\">\n",
       "      <th></th>\n",
       "      <th>Model</th>\n",
       "      <th>Accuracy</th>\n",
       "      <th>Random state</th>\n",
       "    </tr>\n",
       "  </thead>\n",
       "  <tbody>\n",
       "    <tr>\n",
       "      <th>5</th>\n",
       "      <td>GradientBoostingClassifier</td>\n",
       "      <td>0.742345</td>\n",
       "      <td>31</td>\n",
       "    </tr>\n",
       "    <tr>\n",
       "      <th>0</th>\n",
       "      <td>SVC</td>\n",
       "      <td>0.740795</td>\n",
       "      <td>66</td>\n",
       "    </tr>\n",
       "    <tr>\n",
       "      <th>3</th>\n",
       "      <td>LogisticRegression</td>\n",
       "      <td>0.735999</td>\n",
       "      <td>69</td>\n",
       "    </tr>\n",
       "    <tr>\n",
       "      <th>6</th>\n",
       "      <td>LinearDiscriminantAnalysis</td>\n",
       "      <td>0.734819</td>\n",
       "      <td>69</td>\n",
       "    </tr>\n",
       "    <tr>\n",
       "      <th>2</th>\n",
       "      <td>SGDClassifier</td>\n",
       "      <td>0.731499</td>\n",
       "      <td>13</td>\n",
       "    </tr>\n",
       "    <tr>\n",
       "      <th>1</th>\n",
       "      <td>GaussianNB</td>\n",
       "      <td>0.722128</td>\n",
       "      <td>29</td>\n",
       "    </tr>\n",
       "    <tr>\n",
       "      <th>9</th>\n",
       "      <td>QuadraticDiscriminantAnalysis</td>\n",
       "      <td>0.713495</td>\n",
       "      <td>69</td>\n",
       "    </tr>\n",
       "    <tr>\n",
       "      <th>7</th>\n",
       "      <td>RandomForestClassifier</td>\n",
       "      <td>0.712979</td>\n",
       "      <td>69</td>\n",
       "    </tr>\n",
       "    <tr>\n",
       "      <th>8</th>\n",
       "      <td>KNeighborsClassifier</td>\n",
       "      <td>0.706855</td>\n",
       "      <td>37</td>\n",
       "    </tr>\n",
       "    <tr>\n",
       "      <th>4</th>\n",
       "      <td>DecisionTreeClassifier</td>\n",
       "      <td>0.671512</td>\n",
       "      <td>70</td>\n",
       "    </tr>\n",
       "  </tbody>\n",
       "</table>\n",
       "</div>"
      ],
      "text/plain": [
       "                           Model  Accuracy  Random state\n",
       "5     GradientBoostingClassifier  0.742345            31\n",
       "0                            SVC  0.740795            66\n",
       "3             LogisticRegression  0.735999            69\n",
       "6     LinearDiscriminantAnalysis  0.734819            69\n",
       "2                  SGDClassifier  0.731499            13\n",
       "1                     GaussianNB  0.722128            29\n",
       "9  QuadraticDiscriminantAnalysis  0.713495            69\n",
       "7         RandomForestClassifier  0.712979            69\n",
       "8           KNeighborsClassifier  0.706855            37\n",
       "4         DecisionTreeClassifier  0.671512            70"
      ]
     },
     "execution_count": 22,
     "metadata": {},
     "output_type": "execute_result"
    }
   ],
   "source": [
    "\n",
    "# comparing the performances of all the model on accuracy basis\n",
    "model_accuracy_performance = pd.DataFrame({'Model': Model_array,'Accuracy': Max_accuracy_array,'Random state': Random_state})\n",
    "model_accuracy_performance.sort_values(by='Accuracy', ascending=False)"
   ]
  },
  {
   "cell_type": "markdown",
   "metadata": {},
   "source": [
    "### Conclusion\n",
    "\n",
    "On basis of accuracy GradientBoostingClassifier model is performing the best with maximum accuracy score"
   ]
  },
  {
   "cell_type": "code",
   "execution_count": 23,
   "metadata": {},
   "outputs": [],
   "source": [
    "# loop to find out the cross_val_score of all the model in models array, along a range of random state\n",
    "Cross_val_score_array=[]\n",
    "Standard_Deviation=[]\n",
    "for name, model in Models:\n",
    "    kf=KFold(n_splits=10,random_state=5)\n",
    "    cscore=cross_val_score(model,x,y,cv=kf,scoring='accuracy')\n",
    "    Cross_val_score_array.append(cscore.mean())\n",
    "    Standard_Deviation.append(cscore.std())"
   ]
  },
  {
   "cell_type": "code",
   "execution_count": 24,
   "metadata": {},
   "outputs": [
    {
     "data": {
      "text/html": [
       "<div>\n",
       "<style scoped>\n",
       "    .dataframe tbody tr th:only-of-type {\n",
       "        vertical-align: middle;\n",
       "    }\n",
       "\n",
       "    .dataframe tbody tr th {\n",
       "        vertical-align: top;\n",
       "    }\n",
       "\n",
       "    .dataframe thead th {\n",
       "        text-align: right;\n",
       "    }\n",
       "</style>\n",
       "<table border=\"1\" class=\"dataframe\">\n",
       "  <thead>\n",
       "    <tr style=\"text-align: right;\">\n",
       "      <th></th>\n",
       "      <th>Model</th>\n",
       "      <th>Cross val Acuracy</th>\n",
       "      <th>Standard Deviation</th>\n",
       "    </tr>\n",
       "  </thead>\n",
       "  <tbody>\n",
       "    <tr>\n",
       "      <th>5</th>\n",
       "      <td>GradientBoostingClassifier</td>\n",
       "      <td>0.734424</td>\n",
       "      <td>0.003492</td>\n",
       "    </tr>\n",
       "    <tr>\n",
       "      <th>0</th>\n",
       "      <td>SVC</td>\n",
       "      <td>0.733730</td>\n",
       "      <td>0.004887</td>\n",
       "    </tr>\n",
       "    <tr>\n",
       "      <th>3</th>\n",
       "      <td>LogisticRegression</td>\n",
       "      <td>0.727104</td>\n",
       "      <td>0.003704</td>\n",
       "    </tr>\n",
       "    <tr>\n",
       "      <th>6</th>\n",
       "      <td>LinearDiscriminantAnalysis</td>\n",
       "      <td>0.725407</td>\n",
       "      <td>0.004222</td>\n",
       "    </tr>\n",
       "    <tr>\n",
       "      <th>2</th>\n",
       "      <td>SGDClassifier</td>\n",
       "      <td>0.724993</td>\n",
       "      <td>0.003367</td>\n",
       "    </tr>\n",
       "    <tr>\n",
       "      <th>1</th>\n",
       "      <td>GaussianNB</td>\n",
       "      <td>0.711962</td>\n",
       "      <td>0.002936</td>\n",
       "    </tr>\n",
       "    <tr>\n",
       "      <th>9</th>\n",
       "      <td>QuadraticDiscriminantAnalysis</td>\n",
       "      <td>0.702164</td>\n",
       "      <td>0.004225</td>\n",
       "    </tr>\n",
       "    <tr>\n",
       "      <th>7</th>\n",
       "      <td>RandomForestClassifier</td>\n",
       "      <td>0.699301</td>\n",
       "      <td>0.007428</td>\n",
       "    </tr>\n",
       "    <tr>\n",
       "      <th>8</th>\n",
       "      <td>KNeighborsClassifier</td>\n",
       "      <td>0.696570</td>\n",
       "      <td>0.006935</td>\n",
       "    </tr>\n",
       "    <tr>\n",
       "      <th>4</th>\n",
       "      <td>DecisionTreeClassifier</td>\n",
       "      <td>0.661521</td>\n",
       "      <td>0.005102</td>\n",
       "    </tr>\n",
       "  </tbody>\n",
       "</table>\n",
       "</div>"
      ],
      "text/plain": [
       "                           Model  Cross val Acuracy  Standard Deviation\n",
       "5     GradientBoostingClassifier           0.734424            0.003492\n",
       "0                            SVC           0.733730            0.004887\n",
       "3             LogisticRegression           0.727104            0.003704\n",
       "6     LinearDiscriminantAnalysis           0.725407            0.004222\n",
       "2                  SGDClassifier           0.724993            0.003367\n",
       "1                     GaussianNB           0.711962            0.002936\n",
       "9  QuadraticDiscriminantAnalysis           0.702164            0.004225\n",
       "7         RandomForestClassifier           0.699301            0.007428\n",
       "8           KNeighborsClassifier           0.696570            0.006935\n",
       "4         DecisionTreeClassifier           0.661521            0.005102"
      ]
     },
     "execution_count": 24,
     "metadata": {},
     "output_type": "execute_result"
    }
   ],
   "source": [
    "# comparing the performances of all the model on crossval basis\n",
    "model_cross_val_performance = pd.DataFrame({'Model': Model_array,'Cross val Acuracy': Cross_val_score_array,\n",
    "                                            'Standard Deviation': Standard_Deviation})\n",
    "model_cross_val_performance.sort_values(by='Cross val Acuracy', ascending=False)"
   ]
  },
  {
   "cell_type": "markdown",
   "metadata": {},
   "source": [
    "### Conclusion\n",
    "On basis of Cross val Acuracy GradientBoostingClassifier model is performing the best closly follow by LogisticRegression\n",
    "\n"
   ]
  },
  {
   "cell_type": "markdown",
   "metadata": {},
   "source": [
    "### On basis of our compression of Accuracy score and Cross val score since GradientBoostingClassifier model since it performing best on given data we will proceed with it."
   ]
  },
  {
   "cell_type": "code",
   "execution_count": 25,
   "metadata": {},
   "outputs": [],
   "source": [
    "#using grid search to improve model..\n",
    "param_grid={'max_depth':[4,5,6],'max_features':['auto','sqrt'],'min_samples_split':[4,5,6],\n",
    "            'n_estimators':[200,300,400],'min_samples_leaf':[6,7,8]}\n",
    "mod=GradientBoostingClassifier()\n",
    "grid=GridSearchCV(estimator=mod,param_grid=param_grid,scoring='accuracy',cv=10,n_jobs=2)\n",
    "grid_result=grid.fit(train_x,train_y)"
   ]
  },
  {
   "cell_type": "code",
   "execution_count": 26,
   "metadata": {},
   "outputs": [
    {
     "data": {
      "text/plain": [
       "0.7357634925270117"
      ]
     },
     "execution_count": 26,
     "metadata": {},
     "output_type": "execute_result"
    }
   ],
   "source": [
    "grid_result.best_score_"
   ]
  },
  {
   "cell_type": "code",
   "execution_count": 27,
   "metadata": {},
   "outputs": [
    {
     "data": {
      "text/plain": [
       "{'max_depth': 4,\n",
       " 'max_features': 'sqrt',\n",
       " 'min_samples_leaf': 8,\n",
       " 'min_samples_split': 5,\n",
       " 'n_estimators': 300}"
      ]
     },
     "execution_count": 27,
     "metadata": {},
     "output_type": "execute_result"
    }
   ],
   "source": [
    "grid_result.best_params_"
   ]
  },
  {
   "cell_type": "code",
   "execution_count": 28,
   "metadata": {},
   "outputs": [
    {
     "data": {
      "text/plain": [
       "GradientBoostingClassifier(max_depth=4, max_features='sqrt', min_samples_leaf=8,\n",
       "                           min_samples_split=5, n_estimators=300)"
      ]
     },
     "execution_count": 28,
     "metadata": {},
     "output_type": "execute_result"
    }
   ],
   "source": [
    "grid_result.best_estimator_"
   ]
  },
  {
   "cell_type": "code",
   "execution_count": 29,
   "metadata": {},
   "outputs": [
    {
     "name": "stdout",
     "output_type": "stream",
     "text": [
      "Model score is: 0.7360731941267616 \n",
      "\n",
      "Accuracy score of model is :  0.7360731941267616 \n",
      "\n",
      "The mean of cross_val_score for the model is: 0.7323826862162427 \n",
      "\n",
      "Precision score of model is : 0.7508048937540245 \n",
      "\n",
      "Recall score of model is : 0.6968474525623786 \n",
      "\n",
      "Log loss score of model is : 9.115800261301368 \n",
      "\n",
      "F1_score score of model is : 0.7228206121658272 \n",
      "\n",
      "Confusion matrix for the model is : \n",
      " [[5312 1548]\n",
      " [2029 4664]] \n",
      "\n",
      "Classification report for the model is : \n",
      "               precision    recall  f1-score   support\n",
      "\n",
      "           0       0.72      0.77      0.75      6860\n",
      "           1       0.75      0.70      0.72      6693\n",
      "\n",
      "    accuracy                           0.74     13553\n",
      "   macro avg       0.74      0.74      0.74     13553\n",
      "weighted avg       0.74      0.74      0.74     13553\n",
      " \n",
      "\n"
     ]
    },
    {
     "data": {
      "image/png": "[encoded data removed]",
      "text/plain": [
       "<Figure size 432x288 with 1 Axes>"
      ]
     },
     "metadata": {
      "needs_background": "light"
     },
     "output_type": "display_data"
    }
   ],
   "source": [
    "#final classification model\n",
    "gbc=GradientBoostingClassifier(criterion='friedman_mse', init=None,\n",
    "                           learning_rate=0.1, loss='deviance', max_depth=4,\n",
    "                           max_features='auto', max_leaf_nodes=None,\n",
    "                           min_impurity_decrease=0.0, min_impurity_split=None,\n",
    "                           min_samples_leaf=7, min_samples_split=5,\n",
    "                           min_weight_fraction_leaf=0.0, n_estimators=300,\n",
    "                           n_iter_no_change=None, presort='auto',\n",
    "                           random_state=None, subsample=1.0, tol=0.0001,\n",
    "                           validation_fraction=0.1, verbose=0,\n",
    "                           warm_start=False)\n",
    "\n",
    "gbc.fit(train_x,train_y)\n",
    "pred=gbc.predict(test_x)\n",
    "predict_proba = gbc.predict_proba(test_x)[::,1]\n",
    "score=cross_val_score(gbc,test_x,test_y,cv=10,scoring='accuracy').mean()\n",
    "\n",
    "print('Model score is:',gbc.score(test_x,test_y),'\\n')\n",
    "print('Accuracy score of model is : ',accuracy_score(test_y,pred),'\\n')\n",
    "print('The mean of cross_val_score for the model is:',score,'\\n')\n",
    "\n",
    "print('Precision score of model is :',precision_score(test_y, pred),'\\n')\n",
    "print('Recall score of model is :',recall_score(test_y, pred),'\\n')\n",
    "print('Log loss score of model is :',log_loss(test_y, pred),'\\n')\n",
    "print('F1_score score of model is :',f1_score(test_y, pred),'\\n')\n",
    "\n",
    "print('Confusion matrix for the model is : \\n',confusion_matrix(test_y,pred),'\\n')\n",
    "print('Classification report for the model is : \\n',classification_report(test_y,pred),'\\n')\n",
    "\n",
    "fpr, tpr, thresholds  = roc_curve(test_y,  predict_proba)\n",
    "auc = roc_auc_score(test_y, predict_proba)\n",
    "plt.title('ROC Curve')\n",
    "plt.xlabel('False Positive Rate')\n",
    "plt.ylabel('True Positive Rate')\n",
    "plt.plot(fpr,tpr,label='data 1, auc='+str(auc))\n",
    "plt.legend(loc=4)\n",
    "plt.show()"
   ]
  },
  {
   "cell_type": "code",
   "execution_count": 30,
   "metadata": {},
   "outputs": [],
   "source": [
    "# saving the predection to a csv file.\n",
    "prediction = pd.DataFrame(pred, columns=['prediction']).to_csv('Assignment 5 Cardiovascular Disease Detection.csv')"
   ]
  },
  {
   "cell_type": "code",
   "execution_count": 31,
   "metadata": {},
   "outputs": [
    {
     "data": {
      "text/plain": [
       "['gbc_Assignment 5 Cardiovascular Disease Detection.pkl']"
      ]
     },
     "execution_count": 31,
     "metadata": {},
     "output_type": "execute_result"
    }
   ],
   "source": [
    "# saving the model using pickle.\n",
    "joblib.dump(gbc,'gbc_Assignment 5 Cardiovascular Disease Detection.pkl')"
   ]
  }
 ],
 "metadata": {
  "kernelspec": {
   "display_name": "Python 3",
   "language": "python",
   "name": "python3"
  },
  "language_info": {
   "codemirror_mode": {
    "name": "ipython",
    "version": 3
   },
   "file_extension": ".py",
   "mimetype": "text/x-python",
   "name": "python",
   "nbconvert_exporter": "python",
   "pygments_lexer": "ipython3",
   "version": "3.6.10"
  }
 },
 "nbformat": 4,
 "nbformat_minor": 4
}
